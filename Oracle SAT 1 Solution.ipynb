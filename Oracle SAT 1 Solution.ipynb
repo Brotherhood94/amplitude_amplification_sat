{
 "cells": [
  {
   "cell_type": "markdown",
   "id": "3a420316",
   "metadata": {},
   "source": [
    "# Oracle SAT solver with 1 solution\n",
    "### by Alessandro Berti\n",
    "\n",
    "\n",
    "#### Satisfy to following 3-SAT\n",
    "(x ∨ y) ∧ ¬y\n",
    "\n",
    "### In QC, we know how to implement the AND operator -> (Multi-Controlled X gate)\n",
    "\n",
    "##### De Morgan\n",
    "¬(a ∧ b) = ¬a ∨ ¬b \\\n",
    "¬(a ∨ b) = ¬a ∧ ¬b\n",
    "\n",
    "#### Let us rewrite (1)\n",
    "$(x ∨ y) ∧ ¬y = $\n",
    "\n",
    "$¬(¬x ∧ ¬y) ∧ ¬y$\n",
    "\n",
    "\n",
    "and let us define $w_0$ and $w_1$ as:\n",
    "\n",
    "$w_0 = ¬x ∧ ¬y$ \n",
    "\n",
    "$w_1 = ¬y$ \n",
    "\n",
    "\n",
    "Now the SAT instance is expressed in terms of only AND -> happy :)\n",
    "\n",
    "Spoiler: the solution is 01 (order: yx)\n",
    "\n",
    "Since we already know that exists a single solution, then the number of repetitions of (oracle-diffuser) is given by the formula: \n",
    "\n",
    "$\\frac{\\pi}{4} \\sqrt{2^n}$, where $n$ is the number of variables, respectively $x, y$"
   ]
  },
  {
   "cell_type": "code",
   "execution_count": 75,
   "id": "6c72aac2",
   "metadata": {},
   "outputs": [],
   "source": [
    "from qiskit import QuantumCircuit, QuantumRegister, ClassicalRegister\n",
    "from qiskit.circuit.library import MCXGate, HGate, XGate, MCPhaseGate, ZGate\n",
    "from qiskit.visualization import plot_histogram\n",
    "from qiskit.compiler import transpile\n",
    "from qiskit_aer import AerSimulator\n",
    "\n",
    "import math"
   ]
  },
  {
   "cell_type": "markdown",
   "id": "38d5556f",
   "metadata": {},
   "source": [
    "## Diffuser"
   ]
  },
  {
   "cell_type": "code",
   "execution_count": 76,
   "id": "27c3a728",
   "metadata": {},
   "outputs": [],
   "source": [
    "def get_diffuser(len_element):\n",
    "    d = QuantumRegister(len_element, 'd')\n",
    "    m = QuantumRegister(1, 'm')\n",
    "    \n",
    "    diffuser = QuantumCircuit(d, m, name='diffuser')\n",
    "    \n",
    "    for i in range(len(d)):\n",
    "        diffuser.append(HGate(), [d[i]])\n",
    "        diffuser.append(XGate(), [d[i]])\n",
    "    \n",
    "    MCZGate = ZGate().control(len(d))\n",
    "    diffuser.append(MCZGate, d[0:]+[m])\n",
    "\n",
    "    for i in range(len(d)):\n",
    "        diffuser.append(XGate(), [d[i]])\n",
    "        diffuser.append(HGate(), [d[i]])\n",
    "\n",
    "    return diffuser"
   ]
  },
  {
   "cell_type": "markdown",
   "id": "6d86518c",
   "metadata": {},
   "source": [
    "## Oracle"
   ]
  },
  {
   "cell_type": "code",
   "execution_count": 77,
   "id": "75124840",
   "metadata": {},
   "outputs": [],
   "source": [
    "def get_oracle(n_var, steps):\n",
    "    x = QuantumRegister(n_var, 'x')\n",
    "    w = QuantumRegister(len(steps)-1, 'w')\n",
    "    m = QuantumRegister(1, 'marker')\n",
    "    \n",
    "    oracle = QuantumCircuit(x, w, m, name='oracle')\n",
    "    \n",
    "    #step: w0 = (¬x_0 ∧ ¬x_1)\n",
    "    oracle.append(MCXGate(len(steps[0]), label=steps[0], ctrl_state=steps[0]), [x[0]]+[x[1]]+[w[0]])\n",
    "    oracle.barrier()\n",
    "\n",
    "    #step: w1 = ¬x_1\n",
    "    oracle.append(MCXGate(len(steps[1]), label=steps[1], ctrl_state=steps[1]), [x[1]]+[w[1]])\n",
    "    oracle.barrier()\n",
    "\n",
    "    #step: w2 = ¬(¬x_0 ∧ ¬x_1) ∧ ¬x_1\n",
    "    MCZGate = ZGate().control(num_ctrl_qubits=len(steps[2]), label=steps[2], ctrl_state=steps[2])\n",
    "    oracle.append(MCZGate, w[0:]+[m[0]])    \n",
    "    oracle.barrier()\n",
    "   \n",
    "    \n",
    "    #uncomputation step: w1 = ¬x_1\n",
    "    oracle.append(MCXGate(len(steps[1]), label=steps[1], ctrl_state=steps[1]), [x[1]]+[w[1]])\n",
    "    oracle.barrier()\n",
    "\n",
    "    #uncomputation step: w0 = (¬x_0 ∧ ¬x_1)\n",
    "    oracle.append(MCXGate(len(steps[0]), label=steps[0], ctrl_state=steps[0]), [x[0]]+[x[1]]+[w[0]])\n",
    "    oracle.barrier()\n",
    "\n",
    "    return oracle"
   ]
  },
  {
   "cell_type": "markdown",
   "id": "0677c97b",
   "metadata": {},
   "source": [
    "# Quantum Circuit for the SAT instance"
   ]
  },
  {
   "cell_type": "code",
   "execution_count": 78,
   "id": "2f3d6f94",
   "metadata": {},
   "outputs": [],
   "source": [
    "n = 2 #number of variables\n",
    "steps = ['00', '0', '10']\n",
    "\n",
    "q_x = QuantumRegister(1, 'x') # variable 1\n",
    "q_y = QuantumRegister(1, 'y') # variable 2\n",
    "\n",
    "q_w = QuantumRegister(len(steps)-1, 'w') #working qubits: for each clauses, 1 working qubit storing the result\n",
    "marker = QuantumRegister(1, 'marker')\n",
    "\n",
    "c_res = ClassicalRegister(n, 'res')\n",
    "\n",
    "sat_solver = QuantumCircuit(q_x, q_y, q_w, marker, c_res)"
   ]
  },
  {
   "cell_type": "markdown",
   "id": "4ecf7a8f-c890-4906-bef3-7c86131e1482",
   "metadata": {},
   "source": [
    "# Step 0: Flip the marker qubit to enable destructive interferences"
   ]
  },
  {
   "cell_type": "code",
   "execution_count": 79,
   "id": "a1ed4e20-90fc-4d0d-90f8-c42d817e2003",
   "metadata": {},
   "outputs": [
    {
     "data": {
      "text/plain": [
       "<qiskit.circuit.instructionset.InstructionSet at 0x7fc6d834d340>"
      ]
     },
     "execution_count": 79,
     "metadata": {},
     "output_type": "execute_result"
    }
   ],
   "source": [
    "sat_solver.append(XGate(), [marker])"
   ]
  },
  {
   "cell_type": "markdown",
   "id": "7d70e3b7",
   "metadata": {},
   "source": [
    "## Step 1: Generate all the possible assignments for the boolean formula "
   ]
  },
  {
   "cell_type": "code",
   "execution_count": 80,
   "id": "c5c57012",
   "metadata": {},
   "outputs": [
    {
     "data": {
      "text/plain": [
       "<qiskit.circuit.instructionset.InstructionSet at 0x7fc6d834d790>"
      ]
     },
     "execution_count": 80,
     "metadata": {},
     "output_type": "execute_result"
    }
   ],
   "source": [
    "sat_solver.append(HGate(), [q_x])\n",
    "sat_solver.append(HGate(), [q_y])"
   ]
  },
  {
   "cell_type": "markdown",
   "id": "f535fcf1",
   "metadata": {},
   "source": [
    "## Step 2 - 3: Apply Oracle and Diffuser"
   ]
  },
  {
   "cell_type": "code",
   "execution_count": 81,
   "id": "75b4720a",
   "metadata": {},
   "outputs": [],
   "source": [
    "repetitions = math.floor(math.pi/4 * math.sqrt(2**n))\n",
    "\n",
    "for i in range(repetitions):\n",
    "    sat_solver.append(get_oracle(n, steps), q_x[0:]+q_y[0:]+q_w[0:]+[marker])\n",
    "    sat_solver.append(get_diffuser(n), q_x[0:]+q_y[0:]+[marker])"
   ]
  },
  {
   "cell_type": "markdown",
   "id": "15557aa8",
   "metadata": {},
   "source": [
    "### Oracle Circuit"
   ]
  },
  {
   "cell_type": "code",
   "execution_count": 82,
   "id": "e43e80f0",
   "metadata": {},
   "outputs": [
    {
     "data": {
      "image/png": "[encoded data removed]",
      "text/plain": [
       "<Figure size 737.342x325.08 with 1 Axes>"
      ]
     },
     "execution_count": 82,
     "metadata": {},
     "output_type": "execute_result"
    }
   ],
   "source": [
    "get_oracle(n, steps).draw(output='mpl')"
   ]
  },
  {
   "cell_type": "markdown",
   "id": "1bca8a07",
   "metadata": {},
   "source": [
    "### Diffuser Circuit"
   ]
  },
  {
   "cell_type": "code",
   "execution_count": 83,
   "id": "a4a9184e",
   "metadata": {},
   "outputs": [
    {
     "data": {
      "image/png": "[encoded data removed]",
      "text/plain": [
       "<Figure size 387.452x204.68 with 1 Axes>"
      ]
     },
     "execution_count": 83,
     "metadata": {},
     "output_type": "execute_result"
    }
   ],
   "source": [
    "get_diffuser(n).draw(output='mpl')"
   ]
  },
  {
   "cell_type": "markdown",
   "id": "b2ee6671",
   "metadata": {},
   "source": [
    "## Step 4: Measurements"
   ]
  },
  {
   "cell_type": "code",
   "execution_count": 84,
   "id": "50a23d6c",
   "metadata": {},
   "outputs": [
    {
     "data": {
      "image/png": "[encoded data removed]",
      "text/plain": [
       "<Figure size 556.742x385.28 with 1 Axes>"
      ]
     },
     "execution_count": 84,
     "metadata": {},
     "output_type": "execute_result"
    }
   ],
   "source": [
    "sat_solver.measure(q_x[0],c_res[0])\n",
    "sat_solver.measure(q_y[0],c_res[1])\n",
    "\n",
    "\n",
    "sat_solver.draw('mpl')"
   ]
  },
  {
   "cell_type": "code",
   "execution_count": 85,
   "id": "b80d3138",
   "metadata": {},
   "outputs": [
    {
     "data": {
      "image/png": "[encoded data removed]",
      "text/plain": [
       "<Figure size 504x360 with 1 Axes>"
      ]
     },
     "execution_count": 85,
     "metadata": {},
     "output_type": "execute_result"
    }
   ],
   "source": [
    "simulator = AerSimulator()  # Create a simulator backend\n",
    "transpiled_sat_solver = transpile(sat_solver, simulator)\n",
    "result = simulator.run(transpiled_sat_solver, shots=4096).result()  # Run the circuit and get the result\n",
    "counts = result.get_counts()\n",
    "plot_histogram(counts)"
   ]
  },
  {
   "cell_type": "markdown",
   "id": "01a0b9b0",
   "metadata": {},
   "source": [
    "## The solution is:\n",
    "- 01 \\\n",
    "(order: $yx$)"
   ]
  }
 ],
 "metadata": {
  "kernelspec": {
   "display_name": "Python 3 (ipykernel)",
   "language": "python",
   "name": "python3"
  },
  "language_info": {
   "codemirror_mode": {
    "name": "ipython",
    "version": 3
   },
   "file_extension": ".py",
   "mimetype": "text/x-python",
   "name": "python",
   "nbconvert_exporter": "python",
   "pygments_lexer": "ipython3",
   "version": "3.9.7"
  }
 },
 "nbformat": 4,
 "nbformat_minor": 5
}
