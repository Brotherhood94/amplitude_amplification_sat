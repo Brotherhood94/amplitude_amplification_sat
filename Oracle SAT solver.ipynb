{
 "cells": [
  {
   "cell_type": "markdown",
   "id": "3a420316",
   "metadata": {},
   "source": [
    "# Oracle SAT solver\n",
    "\n",
    "\n",
    "#### Satisfy to following 3-SAT\n",
    "(1)\\\n",
    "(x ∨ y) ∧ ¬y ∧ (z ∨ ¬z)\n",
    "\n",
    "### In QC, we know how to implement the AND operator -> (Multi-Controlled X gate)\n",
    "### What about the OR?\n",
    "\n",
    "##### Recalling De Morgan\n",
    "¬(a ∧ b) = ¬a ∨ ¬b \\\n",
    "¬(a ∨ b) = ¬a ∧ ¬b\n",
    "\n",
    "#### Let us rewrite (1)\n",
    "(x ∨ y) ∧ ¬y ∧ (z ∨ ¬z) = \\\n",
    "¬(¬x ∧ ¬y) ∧ ¬y \n",
    "\n",
    "1) Note that (z ∨ ¬z) is always true, thus we can remove it. \n",
    "\n",
    "2) Now the SAT instance is expressed in terms of only AND -> happy :)\n",
    "\n",
    "The solutions are 2: 001, 101 (order: zyx)"
   ]
  },
  {
   "cell_type": "code",
   "execution_count": 12,
   "id": "6c72aac2",
   "metadata": {},
   "outputs": [],
   "source": [
    "import qiskit\n",
    "import numpy as np\n",
    "import random\n",
    "import math\n",
    "import matplotlib.pyplot as plt\n",
    "from qiskit import QuantumCircuit, QuantumRegister, ClassicalRegister, execute, BasicAer, Aer\n",
    "from qiskit.extensions import Initialize, UnitaryGate\n",
    "from qiskit.visualization import plot_histogram, plot_bloch_multivector, plot_state_city\n",
    "\n",
    "from qiskit.circuit.library import CPhaseGate,CU1Gate, CRXGate, MCXGate\n",
    "\n",
    "from numpy import pi"
   ]
  },
  {
   "cell_type": "markdown",
   "id": "6c30457a",
   "metadata": {},
   "source": [
    "## Diffuser"
   ]
  },
  {
   "cell_type": "code",
   "execution_count": 13,
   "id": "3eab02eb",
   "metadata": {},
   "outputs": [],
   "source": [
    "def get_diffuser(n_var):\n",
    "    qvar = QuantumRegister(n_var)\n",
    "    qtarget = QuantumRegister(1)\n",
    "    diffuser = QuantumCircuit(qvar, qtarget, name='diffuser')\n",
    "    diffuser.h(qvar)\n",
    "    diffuser.x(qvar)\n",
    "    diffuser.append(MCXGate(len(qvar)), qvar[0:]+qtarget[0:])\n",
    "    diffuser.x(qvar)\n",
    "    diffuser.h(qvar)\n",
    "    return diffuser"
   ]
  },
  {
   "cell_type": "markdown",
   "id": "de70a365",
   "metadata": {},
   "source": [
    "## Oracle"
   ]
  },
  {
   "cell_type": "code",
   "execution_count": 14,
   "id": "75124840",
   "metadata": {},
   "outputs": [],
   "source": [
    "def get_oracle(n_var):\n",
    "    oq_n = QuantumRegister(n, 'x')\n",
    "    oq_w = QuantumRegister(m, 'w')\n",
    "    oq_checker = QuantumRegister(1, 'checker')\n",
    "    oracle = QuantumCircuit(oq_n, oq_w, oq_checker, name='oracle')\n",
    "    \n",
    "    #clause: (¬x ∧ ¬y)\n",
    "    n_variables_clause_1 = 2\n",
    "    oracle.x(oq_n[0])\n",
    "    oracle.x(oq_n[1])\n",
    "    oracle.append(MCXGate(n_variables_clause_1), [oq_n[0], oq_n[1], oq_w[0]])\n",
    "    oracle.x(oq_n[0])\n",
    "    oracle.x(oq_n[1])\n",
    "    \n",
    "    #clause: ¬y\n",
    "    n_variables_clause_2 = 1\n",
    "    oracle.x(oq_n[1])\n",
    "    oracle.append(MCXGate(n_variables_clause_2), [oq_n[1], oq_w[1]])\n",
    "    oracle.x(oq_n[1])\n",
    "\n",
    "    #clause: ¬(¬x ∧ ¬y) ∧ ¬y\n",
    "    oracle.barrier()\n",
    "    oracle.x(oq_w[0])\n",
    "    oracle.append(MCXGate(len(oq_w)), oq_w[0:]+oq_checker[0:])\n",
    "    oracle.x(oq_w[0])\n",
    "    \n",
    "    \n",
    "    #uncomputation\n",
    "    oracle.barrier()\n",
    "    n_variables_clause_2 = 1\n",
    "    oracle.x(oq_n[1])\n",
    "    oracle.append(MCXGate(n_variables_clause_2), [oq_n[1], oq_w[1]])\n",
    "    oracle.x(oq_n[1])\n",
    "\n",
    "\n",
    "    oracle.barrier()\n",
    "    oracle.x(oq_n[0])\n",
    "    oracle.x(oq_n[1])\n",
    "    oracle.append(MCXGate(n_variables_clause_1), [oq_n[0], oq_n[1], oq_w[0]])\n",
    "    oracle.x(oq_n[0])\n",
    "    oracle.x(oq_n[1])\n",
    "\n",
    "    return oracle"
   ]
  },
  {
   "cell_type": "markdown",
   "id": "13fe85af",
   "metadata": {},
   "source": [
    "# Quantum Circuit for the SAT instance"
   ]
  },
  {
   "cell_type": "code",
   "execution_count": 15,
   "id": "2f3d6f94",
   "metadata": {},
   "outputs": [],
   "source": [
    "q_n = QuantumRegister(n, 'x')\n",
    "q_w = QuantumRegister(m, 'w') #working qubits: for each clauses, 1 working qubit storing the result\n",
    "q_checker = QuantumRegister(1, 'checker')\n",
    "\n",
    "c_n = ClassicalRegister(len(q_n), 'res')\n",
    "\n",
    "sat_solver = QuantumCircuit(q_n, q_w, q_checker, c_n)\n",
    "\n"
   ]
  },
  {
   "cell_type": "markdown",
   "id": "f00b3031",
   "metadata": {},
   "source": [
    "## Step 1: Generate all the possible assignments for the boolean formula "
   ]
  },
  {
   "cell_type": "code",
   "execution_count": 16,
   "id": "114d1f22",
   "metadata": {},
   "outputs": [
    {
     "data": {
      "text/plain": [
       "<qiskit.circuit.instructionset.InstructionSet at 0x7fd7e949b2c0>"
      ]
     },
     "execution_count": 16,
     "metadata": {},
     "output_type": "execute_result"
    }
   ],
   "source": [
    "sat_solver.h(q_n) "
   ]
  },
  {
   "cell_type": "markdown",
   "id": "9ec04f8d",
   "metadata": {},
   "source": [
    "## Step 2 - 3: Apply Oracle and Diffuser"
   ]
  },
  {
   "cell_type": "code",
   "execution_count": 17,
   "id": "eb38a03c",
   "metadata": {},
   "outputs": [],
   "source": [
    "n_solutions = 2 #known a priori somehow\n",
    "iterations = math.floor(math.pi/4 * math.sqrt(2**len(q_n)/n_solutions))\n",
    "\n",
    "for i in range(iterations):\n",
    "    sat_solver.append(get_oracle(len(q_n)), q_n[0:]+q_w[0:]+[q_checker])\n",
    "    sat_solver.append(get_diffuser(len(q_n)), q_n[0:]+[q_checker])"
   ]
  },
  {
   "cell_type": "markdown",
   "id": "15557aa8",
   "metadata": {},
   "source": [
    "### Oracle Circuit"
   ]
  },
  {
   "cell_type": "code",
   "execution_count": 18,
   "id": "e43e80f0",
   "metadata": {},
   "outputs": [
    {
     "data": {
      "image/png": "[encoded data removed]",
      "text/plain": [
       "<Figure size 1226.01x385.28 with 1 Axes>"
      ]
     },
     "execution_count": 18,
     "metadata": {},
     "output_type": "execute_result"
    }
   ],
   "source": [
    "get_oracle(len(q_n)).draw(output='mpl')"
   ]
  },
  {
   "cell_type": "markdown",
   "id": "1bca8a07",
   "metadata": {},
   "source": [
    "### Diffuser Circuit"
   ]
  },
  {
   "cell_type": "code",
   "execution_count": 19,
   "id": "a4a9184e",
   "metadata": {
    "scrolled": true
   },
   "outputs": [
    {
     "data": {
      "image/png": "[encoded data removed]",
      "text/plain": [
       "<Figure size 413.995x264.88 with 1 Axes>"
      ]
     },
     "execution_count": 19,
     "metadata": {},
     "output_type": "execute_result"
    }
   ],
   "source": [
    "get_diffuser(len(q_n)).draw(output='mpl')"
   ]
  },
  {
   "cell_type": "code",
   "execution_count": 20,
   "id": "b80d3138",
   "metadata": {},
   "outputs": [
    {
     "data": {
      "image/png": "[encoded data removed]",
      "text/plain": [
       "<Figure size 504x360 with 1 Axes>"
      ]
     },
     "execution_count": 20,
     "metadata": {},
     "output_type": "execute_result"
    }
   ],
   "source": [
    "sat_solver.measure(q_n[0],c_n[0])\n",
    "sat_solver.measure(q_n[1],c_n[1])\n",
    "sat_solver.measure(q_n[2],c_n[2])\n",
    "\n",
    "sat_solver.draw('mpl')\n",
    "\n",
    "simulator = Aer.get_backend('qasm_simulator')\n",
    "result = execute(sat_solver, simulator, shots=4096).result()\n",
    "counts = result.get_counts(sat_solver)\n",
    "plot_histogram(counts)"
   ]
  },
  {
   "cell_type": "code",
   "execution_count": null,
   "id": "eb521fcf",
   "metadata": {},
   "outputs": [],
   "source": []
  },
  {
   "cell_type": "code",
   "execution_count": null,
   "id": "93dd3ad8",
   "metadata": {},
   "outputs": [],
   "source": []
  }
 ],
 "metadata": {
  "kernelspec": {
   "display_name": "Python 3 (ipykernel)",
   "language": "python",
   "name": "python3"
  },
  "language_info": {
   "codemirror_mode": {
    "name": "ipython",
    "version": 3
   },
   "file_extension": ".py",
   "mimetype": "text/x-python",
   "name": "python",
   "nbconvert_exporter": "python",
   "pygments_lexer": "ipython3",
   "version": "3.9.7"
  }
 },
 "nbformat": 4,
 "nbformat_minor": 5
}
