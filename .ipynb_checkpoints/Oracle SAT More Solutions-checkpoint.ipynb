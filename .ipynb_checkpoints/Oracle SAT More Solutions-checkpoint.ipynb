{
 "cells": [
  {
   "cell_type": "markdown",
   "id": "3a420316",
   "metadata": {},
   "source": [
    "# Oracle SAT solver for M solutions\n",
    "\n",
    "\n",
    "#### Satisfy to following 3-SAT\n",
    "(1)\\\n",
    "$(x_0 ∨ x_1) ∧ ¬x_1 ∧ (x_2 ∨ ¬x_2)$\n",
    "\n",
    "### In QC, we know how to implement the AND operator -> (Multi-Controlled X gate)\n",
    "### What about the OR?\n",
    "\n",
    "##### Recalling De Morgan\n",
    "¬(a ∧ b) = ¬a ∨ ¬b \\\n",
    "¬(a ∨ b) = ¬a ∧ ¬b\n",
    "\n",
    "#### Let us rewrite (1)\n",
    "$(x_0 ∨ x_1) ∧ ¬x_1 ∧ (x_2 ∨ ¬x_2)$ = \\\n",
    "$¬(¬x_0  ∧ ¬x_1) ∧ ¬x_1$\n",
    "\n",
    "1) Note that $(x_2 ∨ ¬x_2)$ is always true.\n",
    "\n",
    "2) Now the SAT instance is expressed in terms of only AND -> happy :)\n",
    "\n",
    "IMPORTANT: Since $(x_2 ∨ ¬x_2)$ is always true, we will find two solutions. In one solution $x_2$ is 0 and in the other $x_2$ is 1. \n",
    "\n",
    "\n",
    "In fact, the solutions are: 001, 101 (order: $x_2x_1x_0$). \n",
    "\n",
    "Since the solutions are 2, then the number of repetitions of (oracle-diffuser) is given by the formula: \n",
    "\n",
    "$\\frac{\\pi}{4} \\sqrt{\\frac{2^n}{\\#solutions}}$ where $n$ is the number of variables.\n",
    "In our example we have 3 variables: $x_0, x_1, x_2$"
   ]
  },
  {
   "cell_type": "code",
   "execution_count": 16,
   "id": "6c72aac2",
   "metadata": {},
   "outputs": [],
   "source": [
    "from qiskit import QuantumCircuit, QuantumRegister, ClassicalRegister\n",
    "from qiskit.circuit.library import MCXGate, HGate, XGate, MCPhaseGate, ZGate\n",
    "from qiskit.visualization import plot_histogram\n",
    "from qiskit.compiler import transpile\n",
    "from qiskit_aer import AerSimulator\n",
    "\n",
    "import math"
   ]
  },
  {
   "cell_type": "markdown",
   "id": "38d5556f",
   "metadata": {},
   "source": [
    "## Diffuser"
   ]
  },
  {
   "cell_type": "code",
   "execution_count": 17,
   "id": "27c3a728",
   "metadata": {},
   "outputs": [],
   "source": [
    "def get_diffuser(len_element):\n",
    "    d = QuantumRegister(len_element, 'd')\n",
    "    m = QuantumRegister(1, 'm')\n",
    "    \n",
    "    diffuser = QuantumCircuit(d, m, name='diffuser')\n",
    "    \n",
    "    for i in range(len(d)):\n",
    "        diffuser.append(HGate(), [d[i]])\n",
    "        diffuser.append(XGate(), [d[i]])\n",
    "    \n",
    "    MCZGate = ZGate().control(len(d))\n",
    "    diffuser.append(MCZGate, d[0:]+[m])\n",
    "\n",
    "    for i in range(len(d)):\n",
    "        diffuser.append(XGate(), [d[i]])\n",
    "        diffuser.append(HGate(), [d[i]])\n",
    "\n",
    "    return diffuser"
   ]
  },
  {
   "cell_type": "markdown",
   "id": "6d86518c",
   "metadata": {},
   "source": [
    "## Oracle"
   ]
  },
  {
   "cell_type": "code",
   "execution_count": 18,
   "id": "75124840",
   "metadata": {},
   "outputs": [],
   "source": [
    "def get_oracle(n_var, steps):\n",
    "    x = QuantumRegister(n_var, 'x')\n",
    "    w = QuantumRegister(len(steps)-1, 'w')\n",
    "    m = QuantumRegister(1, 'm')\n",
    "    \n",
    "    oracle = QuantumCircuit(x, w, m, name='oracle')\n",
    "    \n",
    "    #step: w0 = (¬x_0 ∧ ¬x_1)\n",
    "    oracle.append(MCXGate(len(steps[0]), label=steps[0], ctrl_state=steps[0]), [x[0]]+[x[1]]+[w[0]])\n",
    "    oracle.barrier()\n",
    "\n",
    "    #step: w1 = ¬x_1\n",
    "    oracle.append(MCXGate(len(steps[1]), label=steps[1], ctrl_state=steps[1]), [x[1]]+[w[1]])\n",
    "    oracle.barrier()\n",
    "\n",
    "    #step: w2 = ¬(¬x_0 ∧ ¬x_1) ∧ ¬x_1\n",
    "    MCZGate = ZGate().control(num_ctrl_qubits=len(steps[2]), label=steps[2], ctrl_state=steps[2])\n",
    "    oracle.append(MCZGate, w[0:]+[m[0]])    \n",
    "    oracle.barrier()\n",
    "   \n",
    "    \n",
    "    #uncomputation step: w1 = ¬x_1\n",
    "    oracle.append(MCXGate(len(steps[1]), label=steps[1], ctrl_state=steps[1]), [x[1]]+[w[1]])\n",
    "    oracle.barrier()\n",
    "\n",
    "    #uncomputation step: w0 = (¬x_0 ∧ ¬x_1)\n",
    "    oracle.append(MCXGate(len(steps[0]), label=steps[0], ctrl_state=steps[0]), [x[0]]+[x[1]]+[w[0]])\n",
    "    oracle.barrier()\n",
    "\n",
    "    return oracle"
   ]
  },
  {
   "cell_type": "markdown",
   "id": "0677c97b",
   "metadata": {},
   "source": [
    "# Quantum Circuit for the SAT instance"
   ]
  },
  {
   "cell_type": "code",
   "execution_count": 27,
   "id": "2f3d6f94",
   "metadata": {},
   "outputs": [
    {
     "data": {
      "text/plain": [
       "CircuitInstruction(operation=Instruction(name='barrier', num_qubits=6, num_clbits=0, params=[]), qubits=(Qubit(QuantumRegister(3, 'x'), 0), Qubit(QuantumRegister(3, 'x'), 1), Qubit(QuantumRegister(3, 'x'), 2), Qubit(QuantumRegister(2, 'w'), 0), Qubit(QuantumRegister(2, 'w'), 1), Qubit(QuantumRegister(1, 'marker'), 0)), clbits=())"
      ]
     },
     "execution_count": 27,
     "metadata": {},
     "output_type": "execute_result"
    }
   ],
   "source": [
    "n = 3 #number of variables\n",
    "n_solutions = 2 #known a priori\n",
    "\n",
    "steps = ['00', '0', '10']\n",
    "\n",
    "q_n = QuantumRegister(n, 'x')\n",
    "\n",
    "q_w = QuantumRegister(len(steps)-1, 'w') #working qubits: for each clauses, 1 working qubit storing the result\n",
    "marker = QuantumRegister(1, 'marker')\n",
    "\n",
    "c_res = ClassicalRegister(len(q_n), 'res')\n",
    "\n",
    "sat_solver = QuantumCircuit(q_n, q_w, marker, c_res)\n",
    "    \n",
    "sat_solver.barrier()"
   ]
  },
  {
   "cell_type": "markdown",
   "id": "e13ccb85-bbd6-4238-a8ae-146706a408bd",
   "metadata": {},
   "source": [
    "## Step 0: Flip the q_checker qubit to enable destructive interferences"
   ]
  },
  {
   "cell_type": "code",
   "execution_count": 28,
   "id": "c342c94d-9288-42f5-9dd6-1e8312749ce6",
   "metadata": {},
   "outputs": [
    {
     "data": {
      "text/plain": [
       "<qiskit.circuit.instructionset.InstructionSet at 0x7fcf804067f0>"
      ]
     },
     "execution_count": 28,
     "metadata": {},
     "output_type": "execute_result"
    }
   ],
   "source": [
    "sat_solver.append(XGate(), [marker])"
   ]
  },
  {
   "cell_type": "markdown",
   "id": "7d70e3b7",
   "metadata": {},
   "source": [
    "## Step 1: Generate all the possible assignments for the boolean formula "
   ]
  },
  {
   "cell_type": "code",
   "execution_count": 29,
   "id": "c5c57012",
   "metadata": {},
   "outputs": [],
   "source": [
    "for i in range(len(q_n)):\n",
    "    sat_solver.append(HGate(), [q_n[i]])"
   ]
  },
  {
   "cell_type": "markdown",
   "id": "f535fcf1",
   "metadata": {},
   "source": [
    "## Step 2 - 3: Apply Oracle and Diffuser"
   ]
  },
  {
   "cell_type": "code",
   "execution_count": 30,
   "id": "75b4720a",
   "metadata": {},
   "outputs": [],
   "source": [
    "n_solutions = 2 #known a priori\n",
    "\n",
    "#Here the formula to calculate the #iteration changes a little bit\n",
    "#with respect to the 1-solution oracle in the other file\n",
    "repetitions = math.floor(math.pi/4 * math.sqrt(2**len(q_n)/n_solutions))\n",
    "\n",
    "for i in range(repetitions):\n",
    "    sat_solver.append(get_oracle(len(q_n), steps), q_n[0:]+q_w[0:]+[marker])\n",
    "    sat_solver.append(get_diffuser(len(q_n)), q_n[0:]+[marker])"
   ]
  },
  {
   "cell_type": "markdown",
   "id": "15557aa8",
   "metadata": {},
   "source": [
    "### Oracle Circuit"
   ]
  },
  {
   "cell_type": "code",
   "execution_count": 31,
   "id": "e43e80f0",
   "metadata": {},
   "outputs": [
    {
     "data": {
      "image/png": "[encoded data removed]",
      "text/plain": [
       "<Figure size 692.343x385.28 with 1 Axes>"
      ]
     },
     "execution_count": 31,
     "metadata": {},
     "output_type": "execute_result"
    }
   ],
   "source": [
    "get_oracle(len(q_n), steps).draw(output='mpl')"
   ]
  },
  {
   "cell_type": "markdown",
   "id": "1bca8a07",
   "metadata": {},
   "source": [
    "### Diffuser Circuit"
   ]
  },
  {
   "cell_type": "code",
   "execution_count": 32,
   "id": "a4a9184e",
   "metadata": {
    "scrolled": true
   },
   "outputs": [
    {
     "data": {
      "image/png": "[encoded data removed]",
      "text/plain": [
       "<Figure size 387.597x264.88 with 1 Axes>"
      ]
     },
     "execution_count": 32,
     "metadata": {},
     "output_type": "execute_result"
    }
   ],
   "source": [
    "get_diffuser(len(q_n)).draw(output='mpl')"
   ]
  },
  {
   "cell_type": "markdown",
   "id": "b2ee6671",
   "metadata": {},
   "source": [
    "## Step 4: Measurements"
   ]
  },
  {
   "cell_type": "code",
   "execution_count": 33,
   "id": "50a23d6c",
   "metadata": {},
   "outputs": [
    {
     "data": {
      "image/png": "[encoded data removed]",
      "text/plain": [
       "<Figure size 677.142x445.48 with 1 Axes>"
      ]
     },
     "execution_count": 33,
     "metadata": {},
     "output_type": "execute_result"
    }
   ],
   "source": [
    "sat_solver.measure(q_n,c_res)\n",
    "\n",
    "sat_solver.draw('mpl')"
   ]
  },
  {
   "cell_type": "code",
   "execution_count": 34,
   "id": "b80d3138",
   "metadata": {},
   "outputs": [
    {
     "data": {
      "image/png": "[encoded data removed]",
      "text/plain": [
       "<Figure size 504x360 with 1 Axes>"
      ]
     },
     "execution_count": 34,
     "metadata": {},
     "output_type": "execute_result"
    }
   ],
   "source": [
    "simulator = AerSimulator()  # Create a simulator backend\n",
    "transpiled_sat_solver = transpile(sat_solver, simulator)\n",
    "result = simulator.run(transpiled_sat_solver, shots=4096).result()  # Run the circuit and get the result\n",
    "counts = result.get_counts()\n",
    "plot_histogram(counts)"
   ]
  },
  {
   "cell_type": "markdown",
   "id": "98c9f690",
   "metadata": {},
   "source": [
    "## The solutions are: \n",
    "- 001\n",
    "- 101 \\\n",
    "(order: $x_2 x_1 x_0$)"
   ]
  }
 ],
 "metadata": {
  "kernelspec": {
   "display_name": "Python 3 (ipykernel)",
   "language": "python",
   "name": "python3"
  },
  "language_info": {
   "codemirror_mode": {
    "name": "ipython",
    "version": 3
   },
   "file_extension": ".py",
   "mimetype": "text/x-python",
   "name": "python",
   "nbconvert_exporter": "python",
   "pygments_lexer": "ipython3",
   "version": "3.9.7"
  }
 },
 "nbformat": 4,
 "nbformat_minor": 5
}
